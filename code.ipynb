{
 "cells": [
  {
   "cell_type": "code",
   "execution_count": 2,
   "metadata": {},
   "outputs": [],
   "source": [
    "import http.client as client\n",
    "import urllib"
   ]
  },
  {
   "cell_type": "code",
   "execution_count": 3,
   "metadata": {},
   "outputs": [],
   "source": [
    "conn = client.HTTPSConnection(\"api.pushover.net:443\")"
   ]
  },
  {
   "cell_type": "code",
   "execution_count": 4,
   "metadata": {},
   "outputs": [
    {
     "data": {
      "text/plain": [
       "<http.client.HTTPResponse at 0x7e678dd6f790>"
      ]
     },
     "execution_count": 4,
     "metadata": {},
     "output_type": "execute_result"
    }
   ],
   "source": [
    "conn.request(\"POST\",\n",
    "             \"https://api.pushover.net/1/messages.json\",\n",
    "             urllib.parse.urlencode({\n",
    "              \"token\": \"a6m3a1kphnjxdmsoeinmjyjqq5zcin\",    # APP_TOKEN\n",
    "              \"user\": \"ua1j85pdmdjw6pdmrek9ofsmtsnrk7\",     # USER_KEY\n",
    "              \"message\": \"Hello Seyed\",                     # TEXT MESSAGE\n",
    "              }),\n",
    "               {\"Content-type\": \"application/x-www-form-urlencoded\" })\n",
    "\n",
    "conn.getresponse()"
   ]
  }
 ],
 "metadata": {
  "kernelspec": {
   "display_name": "Python 3",
   "language": "python",
   "name": "python3"
  },
  "language_info": {
   "codemirror_mode": {
    "name": "ipython",
    "version": 3
   },
   "file_extension": ".py",
   "mimetype": "text/x-python",
   "name": "python",
   "nbconvert_exporter": "python",
   "pygments_lexer": "ipython3",
   "version": "3.10.12"
  }
 },
 "nbformat": 4,
 "nbformat_minor": 2
}
